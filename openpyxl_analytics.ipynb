{
 "cells": [
  {
   "cell_type": "code",
   "execution_count": 2,
   "id": "f2710b18",
   "metadata": {},
   "outputs": [],
   "source": [
    "import openpyxl"
   ]
  },
  {
   "cell_type": "code",
   "execution_count": 3,
   "id": "248473a0",
   "metadata": {},
   "outputs": [
    {
     "name": "stdout",
     "output_type": "stream",
     "text": [
      "Hello\n"
     ]
    }
   ],
   "source": [
    "from openpyxl import Workbook, load_workbook\n",
    "\n",
    "# To create a new Excel workbook\n",
    "workbook = Workbook()\n",
    "sheet = workbook.active\n",
    "sheet['A1'] = 'Hello'\n",
    "sheet['B1'] = 'World'\n",
    "workbook.save('example.xlsx')\n",
    "\n",
    "# To load an existing Excel workbook\n",
    "existing_workbook = load_workbook('example.xlsx')\n",
    "existing_sheet = existing_workbook.active\n",
    "cell_value = existing_sheet['A1'].value\n",
    "print(cell_value)\n"
   ]
  },
  {
   "cell_type": "code",
   "execution_count": 4,
   "id": "d703cb8e",
   "metadata": {},
   "outputs": [
    {
     "name": "stdout",
     "output_type": "stream",
     "text": [
      "sheet Title :Sheet\n"
     ]
    }
   ],
   "source": [
    "from openpyxl import Workbook, load_workbook\n",
    "# Create an new empty workbook() by calling Workbook function\n",
    "wb = Workbook() \n",
    "sheet = wb.active\n",
    "print(\"sheet Title :\" + sheet.title)"
   ]
  },
  {
   "cell_type": "code",
   "execution_count": 5,
   "id": "779f184d",
   "metadata": {},
   "outputs": [
    {
     "name": "stdout",
     "output_type": "stream",
     "text": [
      "sheet Title :emp_details\n"
     ]
    }
   ],
   "source": [
    "# Change the worksheet name\n",
    "sheet.title = 'emp_details'\n",
    "print(\"sheet Title :\" + sheet.title)"
   ]
  },
  {
   "cell_type": "code",
   "execution_count": 6,
   "id": "1f11ae31",
   "metadata": {},
   "outputs": [],
   "source": [
    "# Different ways of writing data to a cell \n",
    "#Method 1: Assign value operation\n",
    "sheet['A1'] = 'Joe'\n",
    "sheet['B1'] = 'Brook'\n",
    "sheet['c1'] = 27\n",
    "\n",
    "#Method 2: Calling value function on cell objects\n",
    "sheet.cell(row=2, column=1).value = 'Lucy'\n",
    "sheet.cell(row=2, column=2).value = 'Anderson'\n",
    "sheet.cell(row=2, column=3).value = 24\n",
    "\n",
    "# Method 3:Use append method to insert list of rows to the end of sheet\n",
    "employee_entries = [['sam','woakes',33], ['Chris','Adams',37]]\n",
    "\n",
    "for info in employee_entries:\n",
    "    sheet.append(info)\n",
    "    \n",
    "#save the workbook content\n",
    "workbook_name = 'sample_learn.xlsx'\n",
    "wb.save(filename=workbook_name)"
   ]
  },
  {
   "cell_type": "code",
   "execution_count": 7,
   "id": "19bd1fe5",
   "metadata": {},
   "outputs": [
    {
     "name": "stdout",
     "output_type": "stream",
     "text": [
      "List of sheetnames :['emp_details']\n",
      "active sheet name :<Worksheet \"emp_details\">\n",
      "Joe\n",
      "***********END OF METHOD 1===========\n",
      "Joe Brook\n",
      "Lucy Anderson\n",
      "sam woakes\n",
      "Chris Adams\n",
      "***********END OF METHOD 2===========\n",
      "Joe\n",
      "Brook\n",
      "27\n",
      "Lucy\n",
      "Anderson\n",
      "24\n"
     ]
    }
   ],
   "source": [
    "# Different ways of reading data from a cell \n",
    "# load workbook\n",
    "workbook_name = 'sample_learn.xlsx'\n",
    "wb = openpyxl.load_workbook(workbook_name)\n",
    "\n",
    "sheet = wb.active\n",
    "# print list of sheetnames\n",
    "print(\"List of sheetnames :\" , end = '')\n",
    "print(wb.sheetnames)\n",
    "\n",
    "# In case of excel containing multiple sheets, you can check active sheetname as below\n",
    "active_sheet_name = wb.active\n",
    "print(\"active sheet name :\" , end = '')\n",
    "print(wb.active)\n",
    "\n",
    "# Method 1: Reading values by specifying cell number and calling values method\n",
    "a1 = sheet['A1']\n",
    "print(a1.value)\n",
    "\n",
    "print(\"***********END OF METHOD 1===========\")\n",
    "\n",
    "# Method 2: Read List of values by specifying cell range\n",
    "cell_range = sheet['A1':'B4']\n",
    "\n",
    "for c_i, c_j in cell_range:\n",
    "    print(\"{0:1} {1:0}\".format(c_i.value, c_j.value))\n",
    "\n",
    "print(\"***********END OF METHOD 2===========\")\n",
    "# Method 3: Read cells from multiple rows and columns. By customizing the paramater, \n",
    "# you can fetch different sets of data.\n",
    "for row in sheet.iter_rows(min_row=1, max_col=3, max_row=2):\n",
    "    for cell in row:\n",
    "        print(cell.value)"
   ]
  },
  {
   "cell_type": "code",
   "execution_count": 8,
   "id": "4b6630ae",
   "metadata": {},
   "outputs": [],
   "source": [
    "# create new sheets\n",
    "wb.create_sheet('summer-activities')\n",
    "# Save the excel file\n",
    "wb.save(filename=workbook_name)\n"
   ]
  },
  {
   "cell_type": "code",
   "execution_count": 9,
   "id": "818fd282",
   "metadata": {},
   "outputs": [
    {
     "name": "stdout",
     "output_type": "stream",
     "text": [
      "list of all worksheet :['emp_details', 'summer-activities']\n",
      "active worksheet :<Worksheet \"emp_details\">\n",
      "Active sheet now :<Worksheet \"summer-activities\">\n"
     ]
    }
   ],
   "source": [
    "# load an existing Excel workbook\n",
    "wb = openpyxl.load_workbook(workbook_name)\n",
    "# check the active sheet\n",
    "print(\"list of all worksheet :\", end = '')\n",
    "print(wb.sheetnames)\n",
    "print(\"active worksheet :\", end = '')\n",
    "print(wb.active)\n",
    "\n",
    "# As you can see above, the active sheet by default is the first one, but you can alter it. \n",
    "# change the active sheet \n",
    "wb._active_sheet_index = 1\n",
    "sheet = wb.active \n",
    "print(\"Active sheet now :\", end = '')\n",
    "print(wb.active)"
   ]
  },
  {
   "cell_type": "code",
   "execution_count": 10,
   "id": "296f67e3",
   "metadata": {},
   "outputs": [],
   "source": [
    "# Method 3:Use append method to insert list of rows to the end of sheet\n",
    "activity_list = [['Activity','Number of employees'], ['Painting', 7], ['Computer Games', 10], ['Reading Books', 5 ], ['Cricket', 2]]\n",
    "\n",
    "for info in activity_list:\n",
    "    sheet.append(info)\n",
    "    \n"
   ]
  },
  {
   "cell_type": "code",
   "execution_count": 11,
   "id": "e6f2ffbe",
   "metadata": {},
   "outputs": [],
   "source": [
    "from openpyxl.chart import BarChart, Reference, PieChart\n",
    "from openpyxl.chart.marker import DataPoint\n",
    "\n",
    "from openpyxl.drawing.fill import PatternFillProperties, ColorChoice"
   ]
  },
  {
   "cell_type": "code",
   "execution_count": 12,
   "id": "cfdec37d",
   "metadata": {},
   "outputs": [],
   "source": [
    "Bar_chart = BarChart()\n",
    "data = Reference(sheet, min_col=2,min_row=1, max_row=8)\n",
    "Bar_chart.add_data(data, titles_from_data=True)\n",
    "cats = Reference(sheet, min_col=1, min_row=2, max_row=8)\n",
    "Bar_chart.set_categories(cats)\n",
    "Bar_chart.title = \"Summer Activities(Bar Chart)\"\n",
    "Bar_chart.y_axis.title = 'Number of employees'\n",
    "Bar_chart.x_axis.title = 'Type of Activies'\n",
    "Bar_chart.legend = None\n",
    "sheet.add_chart(Bar_chart, \"a7\")\n",
    "wb.save(filename=workbook_name)"
   ]
  },
  {
   "cell_type": "code",
   "execution_count": 13,
   "id": "afc2a703",
   "metadata": {},
   "outputs": [],
   "source": [
    "pie_chart = PieChart()\n",
    "data = Reference(sheet, min_col=2,min_row=1, max_row=8)\n",
    "pie_chart.add_data(data, titles_from_data=True)\n",
    "cats = Reference(sheet, min_col=1, min_row=2, max_row=8)\n",
    "pie_chart.set_categories(cats)\n",
    "pie_chart.title = \"Summer Activities(Pie Chart)\"\n",
    "pie_chart.legend = None\n",
    "sheet.add_chart(pie_chart, \"m7\")\n",
    "wb.save(filename=workbook_name)"
   ]
  },
  {
   "cell_type": "code",
   "execution_count": 14,
   "id": "7f299c8b",
   "metadata": {},
   "outputs": [],
   "source": [
    "# create new sheets\n",
    "wb.create_sheet('formatting_design')\n",
    "# Save the excel file\n",
    "wb.save(filename=workbook_name)"
   ]
  },
  {
   "cell_type": "code",
   "execution_count": 15,
   "id": "69e7e7c1",
   "metadata": {},
   "outputs": [
    {
     "name": "stdout",
     "output_type": "stream",
     "text": [
      "list of all worksheet :['emp_details', 'summer-activities', 'formatting_design']\n",
      "active worksheet :<Worksheet \"summer-activities\">\n",
      "Active sheet now :<Worksheet \"formatting_design\">\n"
     ]
    }
   ],
   "source": [
    "# load an existing Excel workbook\n",
    "wb = openpyxl.load_workbook(workbook_name)\n",
    "# check the active sheet\n",
    "print(\"list of all worksheet :\", end = '')\n",
    "print(wb.sheetnames)\n",
    "print(\"active worksheet :\", end = '')\n",
    "print(wb.active)\n",
    "wb._active_sheet_index = 2\n",
    "sheet = wb.active \n",
    "print(\"Active sheet now :\", end = '')\n",
    "print(wb.active)"
   ]
  },
  {
   "cell_type": "code",
   "execution_count": 16,
   "id": "df7e0d9f",
   "metadata": {},
   "outputs": [],
   "source": [
    "from openpyxl.styles import Font, Border, Side, Alignment,GradientFill\n",
    "\n",
    "# Merge cells in excel\n",
    "sheet.merge_cells(\"A2:F4\")\n",
    "top_cell = sheet[\"A2\"]\n",
    "coral_color = \"ff7f50\"\n",
    "yellow_color = \"eed202\"\n",
    "thin = Side(border_style=\"thin\", color=coral_color)\n",
    "double = Side(border_style=\"double\", color=yellow_color)\n",
    "top_cell.value = \"Learn conditional formatting\"\n",
    "top_cell.border = Border(top=double, left=thin, right=thin,\n",
    "                              bottom=double)\n",
    "top_cell.fill = GradientFill(type=\"linear\",\n",
    "        degree=90,stop= (\"FF344756\",\"FF1A2D3B\"))\n",
    "\n",
    "top_cell.font = Font(b=True, color=\"00ffff\", size=16)\n",
    "top_cell.alignment = Alignment(horizontal=\"center\",\n",
    "                                        vertical=\"center\")"
   ]
  },
  {
   "cell_type": "code",
   "execution_count": 27,
   "id": "aa098369",
   "metadata": {},
   "outputs": [],
   "source": [
    "import random\n",
    "age = sheet.cell(row=6, column=1, value='Age')\n",
    "gender = sheet.cell(row=6, column=2, value='Gender')\n",
    "genre = sheet.cell(row=6, column=3, value='Genre')\n",
    "\n",
    "\n",
    "age.font = Font(b=True, color=\"000000\", size=12)\n",
    "gender.font = Font(b=True, color=\"000000\", size=12)\n",
    "genre.font = Font(b=True, color=\"000000\", size=12)\n",
    "\n",
    "for row in range(7, 20):\n",
    "    val = random.randrange(23,34)\n",
    "    cell = sheet.cell(row=row, column=1)\n",
    "    cell.value = val\n",
    "\n",
    "gender_list = ['male', 'female']\n",
    "for row in range(7, 20):\n",
    "    val = random.choice(gender_list)\n",
    "    cell = sheet.cell(row=row, column=2)\n",
    "    cell.value = val\n",
    "\n",
    "genre_list = ['comedy', 'fiction', 'horror', 'adventure']\n",
    "for row in range(7, 20):\n",
    "    val = random.choice(genre_list)\n",
    "    cell = sheet.cell(row=row, column=3)\n",
    "    cell.value = val\n",
    "\n",
    "    \n",
    "wb.save(filename=workbook_name)"
   ]
  },
  {
   "cell_type": "code",
   "execution_count": 22,
   "id": "d15ae5db",
   "metadata": {},
   "outputs": [],
   "source": [
    "from openpyxl.styles.differential import DifferentialStyle\n",
    "from openpyxl.formatting.rule import Rule\n",
    "from openpyxl.styles import colors, PatternFill \n",
    "\n",
    "# mark the rows as yellow \n",
    "bg = PatternFill(bgColor=\"eed202\")\n",
    "style = DifferentialStyle(fill=bg) \n",
    "\n",
    "rule = Rule(type=\"expression\", dxf=style)\n",
    "rule.formula = ['$C7=\"horror\"']\n",
    "\n",
    "sheet.conditional_formatting.add(\"A7:C19\", rule) \n",
    "\n",
    "wb.save(filename=workbook_name)"
   ]
  },
  {
   "cell_type": "code",
   "execution_count": null,
   "id": "56df5316",
   "metadata": {},
   "outputs": [],
   "source": []
  }
 ],
 "metadata": {
  "kernelspec": {
   "display_name": "Python 3 (ipykernel)",
   "language": "python",
   "name": "python3"
  },
  "language_info": {
   "codemirror_mode": {
    "name": "ipython",
    "version": 3
   },
   "file_extension": ".py",
   "mimetype": "text/x-python",
   "name": "python",
   "nbconvert_exporter": "python",
   "pygments_lexer": "ipython3",
   "version": "3.10.9"
  }
 },
 "nbformat": 4,
 "nbformat_minor": 5
}
